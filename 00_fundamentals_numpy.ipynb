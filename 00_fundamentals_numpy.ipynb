{
 "cells": [
  {
   "cell_type": "markdown",
   "metadata": {},
   "source": [
    "# Numerical Computing with Python\n",
    "### Table of contents:\n",
    "* [Introduction](##Introduction)\n",
    "    - [List Vs NumPy](###List_Vs_NumPy)\n",
    "* [Fundamentals](##Fundamentals)\n",
    "    - [Dimensions](####Dimensions)\n",
    "    - [dtype](####dtype)\n"
   ]
  },
  {
   "cell_type": "markdown",
   "metadata": {},
   "source": [
    "## Introduction\n",
    "NumPy is a library for the Python programming language, adding support for large, multi-dimensional arrays and matrices, along with a large collection of high-level mathematical functions to operate on these arrays.  \n",
    "- NumPy is fast as it uses Fixed types.\n",
    "- Numpy operations are implemented in C, avoiding the general cost of loops in Python, pointer indirection and per-element dynamic type checking."
   ]
  },
  {
   "cell_type": "code",
   "execution_count": 1,
   "metadata": {},
   "outputs": [],
   "source": [
    "# if you haven't installed NumPy already, uncomment the below line and run this cell:\n",
    "# %pip install numpy -q"
   ]
  },
  {
   "cell_type": "markdown",
   "metadata": {},
   "source": [
    "### List_Vs_NumPy"
   ]
  },
  {
   "cell_type": "code",
   "execution_count": 2,
   "metadata": {},
   "outputs": [
    {
     "name": "stdout",
     "output_type": "stream",
     "text": [
      "CPU times: user 110 ms, sys: 7.51 ms, total: 117 ms\n",
      "Wall time: 116 ms\n"
     ]
    },
    {
     "data": {
      "text/plain": [
       "499999500000"
      ]
     },
     "execution_count": 2,
     "metadata": {},
     "output_type": "execute_result"
    }
   ],
   "source": [
    "%%time\n",
    "\n",
    "# let's create a for loop to sum all the numbers in the list\n",
    "\n",
    "nums = [i for i in range(10_000_00)]\n",
    "sum_ = 0\n",
    "for e in range(len(nums)):\n",
    "    sum_ += e\n",
    "sum_    \n"
   ]
  },
  {
   "cell_type": "code",
   "execution_count": 6,
   "metadata": {},
   "outputs": [
    {
     "name": "stdout",
     "output_type": "stream",
     "text": [
      "CPU times: user 1.69 ms, sys: 2.28 ms, total: 3.97 ms\n",
      "Wall time: 2.51 ms\n"
     ]
    },
    {
     "data": {
      "text/plain": [
       "499999500000"
      ]
     },
     "execution_count": 6,
     "metadata": {},
     "output_type": "execute_result"
    }
   ],
   "source": [
    "%%time\n",
    "\n",
    "# let's do the same thing with numpy\n",
    "import numpy as np\n",
    "np_list = np.arange(10_000_00)\n",
    "np_list.sum()"
   ]
  },
  {
   "cell_type": "markdown",
   "metadata": {},
   "source": [
    "Time taken by python list: 116ms  \n",
    "Time taken by NumPy: 2.59ms  \n",
    "  \n",
    "as we can see, NumPy arrays are relatively so fast when compared to python lists. why? because in NumPy there is fixed type check where as in Python list uses dynamic type checking means it checks the tyoe of the element present in the list everytime. So it's no surpise that list are slower than NumPy arrays"
   ]
  },
  {
   "cell_type": "markdown",
   "metadata": {},
   "source": [
    "## Fundamentals\n",
    "#### Creating an array"
   ]
  },
  {
   "cell_type": "code",
   "execution_count": 27,
   "metadata": {},
   "outputs": [],
   "source": [
    "array = np.array([1, 2, 3, 4, 5]) # create a numpy array of dimesions 1x5\n",
    "array2d = np.array([[1, 2, 3], [4, 5, 6], [7, 8, 9]]) # create a numpy array of dimesions 3x3\n",
    "array3d = np.array([[[1, 2, 3], [4, 5, 6], [7, 8, 9]], [[1, 2, 3], [4, 5, 6], [7, 8, 9]]]) # create a numpy array of dimesions 2x3x3"
   ]
  },
  {
   "cell_type": "code",
   "execution_count": 18,
   "metadata": {},
   "outputs": [
    {
     "data": {
      "text/plain": [
       "array([1, 2, 3, 4, 5])"
      ]
     },
     "execution_count": 18,
     "metadata": {},
     "output_type": "execute_result"
    }
   ],
   "source": [
    "array"
   ]
  },
  {
   "cell_type": "code",
   "execution_count": 35,
   "metadata": {},
   "outputs": [
    {
     "data": {
      "text/plain": [
       "array([[1, 2, 3],\n",
       "       [4, 5, 6],\n",
       "       [7, 8, 9]])"
      ]
     },
     "execution_count": 35,
     "metadata": {},
     "output_type": "execute_result"
    }
   ],
   "source": [
    "array2d"
   ]
  },
  {
   "cell_type": "code",
   "execution_count": 20,
   "metadata": {},
   "outputs": [
    {
     "data": {
      "text/plain": [
       "array([[[1, 2, 3],\n",
       "        [4, 5, 6],\n",
       "        [7, 8, 9]],\n",
       "\n",
       "       [[1, 2, 3],\n",
       "        [4, 5, 6],\n",
       "        [7, 8, 9]]])"
      ]
     },
     "execution_count": 20,
     "metadata": {},
     "output_type": "execute_result"
    }
   ],
   "source": [
    "array3d"
   ]
  },
  {
   "cell_type": "code",
   "execution_count": 37,
   "metadata": {},
   "outputs": [
    {
     "name": "stdout",
     "output_type": "stream",
     "text": [
      "[1 2 3]\n",
      "2\n",
      "[2 5 8]\n"
     ]
    }
   ],
   "source": [
    "# accessing elements in a numpy array\n",
    "print(array2d[0]) # get the first row\n",
    "print(array2d[0][1]) # get the second element in the first row\n",
    "\n",
    "print(array2d[:, 1]) # get the second column"
   ]
  },
  {
   "cell_type": "markdown",
   "metadata": {},
   "source": [
    "#### Dimensions"
   ]
  },
  {
   "cell_type": "code",
   "execution_count": 23,
   "metadata": {},
   "outputs": [
    {
     "name": "stdout",
     "output_type": "stream",
     "text": [
      "1\n",
      "2\n",
      "3\n"
     ]
    }
   ],
   "source": [
    "# Number of dimensions\n",
    "print(array.ndim)\n",
    "print(array2d.ndim)\n",
    "print(array3d.ndim)"
   ]
  },
  {
   "cell_type": "markdown",
   "metadata": {},
   "source": [
    "#### dtype\n",
    "dtype is an attribute of a numpy array, basically dtype allows us to specify the data type of our array.  \n",
    "various numerical data types are:  \n",
    "- int\n",
    "  * int8\n",
    "  * int16\n",
    "  * int32\n",
    "  * int64\n",
    "- float\n",
    "  * float16\n",
    "  * float32\n",
    "  * float64\n",
    "\n",
    "by default the data type is of 64 bit.  \n",
    "changing dtype attribute does benefit a lot in computations like when using lower bit data type it saves memory and obviously the computation is fast.\n"
   ]
  },
  {
   "cell_type": "code",
   "execution_count": 45,
   "metadata": {},
   "outputs": [
    {
     "data": {
      "text/plain": [
       "array([0, 1, 2, 3, 4, 5, 6, 7, 8, 9])"
      ]
     },
     "execution_count": 45,
     "metadata": {},
     "output_type": "execute_result"
    }
   ],
   "source": [
    "np.arange(10, dtype='int64') # create a numpy array of dimesions 1x10"
   ]
  },
  {
   "cell_type": "code",
   "execution_count": null,
   "metadata": {},
   "outputs": [],
   "source": []
  }
 ],
 "metadata": {
  "kernelspec": {
   "display_name": "Python 3.9.12 ('base')",
   "language": "python",
   "name": "python3"
  },
  "language_info": {
   "codemirror_mode": {
    "name": "ipython",
    "version": 3
   },
   "file_extension": ".py",
   "mimetype": "text/x-python",
   "name": "python",
   "nbconvert_exporter": "python",
   "pygments_lexer": "ipython3",
   "version": "3.9.12"
  },
  "orig_nbformat": 4,
  "vscode": {
   "interpreter": {
    "hash": "b410b1828cb06efbfe2225a10c605e39ac7c092864637669550a2051a7661f92"
   }
  }
 },
 "nbformat": 4,
 "nbformat_minor": 2
}
